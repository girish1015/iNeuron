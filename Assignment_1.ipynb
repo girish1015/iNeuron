{
 "cells": [
  {
   "cell_type": "raw",
   "id": "e3e68ccc",
   "metadata": {},
   "source": [
    "Question1: In the below elements which of them are values or an expression? \n",
    "eg:- values can be integer or string and expressions will be mathematical operators.\n",
    "\n",
    "Solution: \n",
    "'hello' -> values\n",
    "-87.8 -> values\n",
    "- -> expression\n",
    "/ -> expression\n",
    "+ -> expression\n",
    "6 -> expression"
   ]
  },
  {
   "cell_type": "raw",
   "id": "a28f431c",
   "metadata": {},
   "source": [
    "'''Quesiton2: Difference between string and variable?\n",
    "\n",
    "Solution: String is a datatype. Variable is an object that is assigned by a data type (string, int, list..)'''"
   ]
  },
  {
   "cell_type": "raw",
   "id": "43513ff7",
   "metadata": {},
   "source": [
    "Question3: Describe three different types?\n",
    "\n",
    "Solution: \n",
    "[1] Integer (int): It is python datatype which can be positive or negative. Example: 1,-2, 4, 6\n",
    "[2] list -> List is a python datatype which is a collection of objects and it is mutable. Here, values can be integer, float, string, list, tuple, dictionary. It is enclosed with square bracket[]. \n",
    "Example: list = [1,-1,1.5,'str',[1,2],{'1':'11\"}]\n",
    "[3] tuple -> tuple is a python datatype which is a collection of objects and it is immutable. It is enclosed with parenthesis ()\n",
    "Example: tup = (1,2,3,5)"
   ]
  },
  {
   "cell_type": "raw",
   "id": "f323d308",
   "metadata": {},
   "source": [
    "Question4: What is an expression made up of? What do all expressions do?\n",
    "\n",
    "Solution: Expression is a combination of operators and operands that is interpreted to produce some other value. An expression is evaluated as per the precedence of its operators so that if there is more than one operator in an expression, their precedence decides which operation will be performed first. \n",
    "\n"
   ]
  },
  {
   "cell_type": "raw",
   "id": "16333d29",
   "metadata": {},
   "source": [
    "Question5: This assignment statements, like spam = 10. What is the difference between an expression and a statement?\n",
    "\n",
    "Solution:\n",
    "Expression is a combination of operators and operands that is interpreted to produce some other value. In this example\n",
    "spam=10 is an expression.\n",
    "\n",
    "Statement -> Every line of code that we enter is a statement. Upon this execution an action gets created like creating a variable. In this example spam = 10 will be performed only upon an execution.\n",
    "\n"
   ]
  },
  {
   "cell_type": "raw",
   "id": "0b3abd82",
   "metadata": {},
   "source": [
    "Question6: After running the following code, what does the variable bacon contain?\n",
    "bacon = 22\n",
    "bacon + 1\n",
    "\n",
    "solution: 22\n",
    "here, adding 1 performs only at runtime and doesn;t modify the variable bacon. Hence, the value remains as 22\n",
    "    "
   ]
  },
  {
   "cell_type": "raw",
   "id": "344ace96",
   "metadata": {},
   "source": [
    "Question7: What should the values of the following two terms be?\n",
    "'spam' + 'spamspam'\n",
    "'spam' * 3\n",
    "\n",
    "Solution:\n",
    "'spam' + 'spamspam' -> 'spamspamspam' (concetnating two strings)\n",
    "'spam' * 3 => 'spamspamspam' (multiplies string three times and transforms to single line)\n"
   ]
  },
  {
   "cell_type": "raw",
   "id": "e8a9cab6",
   "metadata": {},
   "source": [
    "Question8: Why is eggs a valid variable name while 100 is invalid?\n",
    "\n",
    "Solution:\n",
    "In Python variable name must always start with letter or underscore character. In our example eggs is a valid name since it starts with letter, and 100 is invalid since it doesn't start with letters or underscore."
   ]
  },
  {
   "cell_type": "raw",
   "id": "214130f3",
   "metadata": {},
   "source": [
    "Question9: What three functions can be used to get the integer, floating-point number, or string version of a value?\n",
    "\n",
    "Solution:\n",
    "int(<value>)\n",
    "float(<value>)\n",
    "str(<value>)"
   ]
  },
  {
   "cell_type": "raw",
   "id": "6b69ff0a",
   "metadata": {},
   "source": [
    "Question10: Why does this expression cause an error? How can you fix it?\n",
    "'I have eaten ' + 99 + ' burritos.'\n",
    "\n",
    "Solution:\n",
    "As we know concetnate can happen only to strings. In this example, 99 is declared as integer hence upon running this line will give TypeError."
   ]
  },
  {
   "cell_type": "code",
   "execution_count": null,
   "id": "5c1b7047",
   "metadata": {},
   "outputs": [],
   "source": []
  }
 ],
 "metadata": {
  "kernelspec": {
   "display_name": "Python 3 (ipykernel)",
   "language": "python",
   "name": "python3"
  },
  "language_info": {
   "codemirror_mode": {
    "name": "ipython",
    "version": 3
   },
   "file_extension": ".py",
   "mimetype": "text/x-python",
   "name": "python",
   "nbconvert_exporter": "python",
   "pygments_lexer": "ipython3",
   "version": "3.9.12"
  }
 },
 "nbformat": 4,
 "nbformat_minor": 5
}
