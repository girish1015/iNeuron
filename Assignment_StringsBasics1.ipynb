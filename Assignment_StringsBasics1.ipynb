{
 "cells": [
  {
   "cell_type": "markdown",
   "id": "891d9480",
   "metadata": {},
   "source": [
    "ASSIGNMENT - BASIC STRINGS\n",
    "\n",
    "s = \"this is My First Python programming class and i am learNING python string and its function\"\n",
    "1. Try to extract data from index one to index 300 with a jump of 3\n",
    "2. Try to reverese a string without using reverse function\n",
    "3. Try to split a string after conversion of entire string in uppercase\n",
    "4. Try to convert the whole string into lower case\n",
    "5. Try to convert captilize the whole string\n",
    "6. Write a difference beteween isalnum() and isalpha()\n",
    "7. Try to give an example of expand tab\n",
    "8. Give an example of strip, lstrip and rstrip\n",
    "9. Replace a string character by another character by taking your own example\n",
    "10. Try to give a difintion of string center function with an example\n",
    "11. Write your own defintion of compiler and interpretor without copy paste from internet in your language\n",
    "12. Python is a interpreted of compiled language givena clear answer with your understanding\n",
    "13. Try to write a usecase of python with your understanding"
   ]
  },
  {
   "cell_type": "code",
   "execution_count": 1,
   "id": "e9039131",
   "metadata": {},
   "outputs": [],
   "source": [
    "s = \"this is My First Python programming class and i am learNING python string and its function\""
   ]
  },
  {
   "cell_type": "code",
   "execution_count": 2,
   "id": "e9d65620",
   "metadata": {},
   "outputs": [
    {
     "data": {
      "text/plain": [
       "'h   r tnrrmglsnimeNGyosi dtfco'"
      ]
     },
     "execution_count": 2,
     "metadata": {},
     "output_type": "execute_result"
    }
   ],
   "source": [
    "'''Q1. Try to extract data from index one to index 300 with a jump of 3'''\n",
    "s[1:300:3]"
   ]
  },
  {
   "cell_type": "code",
   "execution_count": 3,
   "id": "6e3e6942",
   "metadata": {},
   "outputs": [
    {
     "data": {
      "text/plain": [
       "'noitcnuf sti dna gnirts nohtyp GNINrael ma i dna ssalc gnimmargorp nohtyP tsriF yM si siht'"
      ]
     },
     "execution_count": 3,
     "metadata": {},
     "output_type": "execute_result"
    }
   ],
   "source": [
    "'''Q2. Try to reverese a string without using reverse function'''\n",
    "s[ : : -1]"
   ]
  },
  {
   "cell_type": "code",
   "execution_count": 4,
   "id": "60f80e80",
   "metadata": {},
   "outputs": [
    {
     "data": {
      "text/plain": [
       "['THIS', 'IS', 'MY', 'FIRST', 'ASSIGNMENT']"
      ]
     },
     "execution_count": 4,
     "metadata": {},
     "output_type": "execute_result"
    }
   ],
   "source": [
    "'''Q3. Try to split a string after conversion of entire string in uppercase'''\n",
    "s1 = 'this is my first assignment'\n",
    "s1 = s1.upper()\n",
    "s1.split(' ')Q"
   ]
  },
  {
   "cell_type": "code",
   "execution_count": 5,
   "id": "1413be97",
   "metadata": {},
   "outputs": [
    {
     "data": {
      "text/plain": [
       "'this is my first assignment'"
      ]
     },
     "execution_count": 5,
     "metadata": {},
     "output_type": "execute_result"
    }
   ],
   "source": [
    "'''Q4. Try to convert the whole string into lower case'''\n",
    "s1.lower()"
   ]
  },
  {
   "cell_type": "code",
   "execution_count": 6,
   "id": "1343876d",
   "metadata": {},
   "outputs": [
    {
     "data": {
      "text/plain": [
       "'This is my first python programming class and i am learning python string and its function'"
      ]
     },
     "execution_count": 6,
     "metadata": {},
     "output_type": "execute_result"
    }
   ],
   "source": [
    "'''Q5. Try to convert captilize the whole string'''\n",
    "s = \"this is My First Python programming class and i am learNING python string and its function\"\n",
    "s.capitalize()"
   ]
  },
  {
   "cell_type": "markdown",
   "id": "3e0ee6dd",
   "metadata": {},
   "source": [
    "'''Q6. Write a difference beteween isalnum() and isalpha()'''\n",
    "\n",
    "isalnum() is a string function that checks whether the given string is AlphaNumeric, meaning it can have only \n",
    "Alphabets or numbers or combination of both Alphabets and numbers. It retunrs True if condition passes else returns False.\n",
    "Example: \n",
    "    s = '1234' -> Answer: True\n",
    "    s = 'abc' -> Answer: True\n",
    "    s = '1234abc' -> Answer: True\n",
    "\n",
    "isalpha() is a string function that checks whether the given string is Alphabets only. \n",
    "It returns True if condition passes else returns False\n",
    "Example: \n",
    "    s = '1234' -> Answer: False\n",
    "    2 = 'abcd' -> Answer: True\n"
   ]
  },
  {
   "cell_type": "code",
   "execution_count": 8,
   "id": "98e9399e",
   "metadata": {},
   "outputs": [
    {
     "data": {
      "text/plain": [
       "'This    is      my      first   program'"
      ]
     },
     "execution_count": 8,
     "metadata": {},
     "output_type": "execute_result"
    }
   ],
   "source": [
    "'''Q7: Try to give an example of expandtab'''\n",
    "s2 = 'This\\tis\\tmy\\tfirst\\tprogram'\n",
    "s2.expandtabs()"
   ]
  },
  {
   "cell_type": "code",
   "execution_count": 10,
   "id": "aa6539bc",
   "metadata": {},
   "outputs": [
    {
     "data": {
      "text/plain": [
       "'Good Morning'"
      ]
     },
     "execution_count": 10,
     "metadata": {},
     "output_type": "execute_result"
    }
   ],
   "source": [
    "'''Q8: Give an example of strip, lstrip and rstrip'''\n",
    "s3 = '   Good Morning   '\n",
    "s3.strip()"
   ]
  },
  {
   "cell_type": "code",
   "execution_count": 11,
   "id": "44f7d2f7",
   "metadata": {},
   "outputs": [
    {
     "data": {
      "text/plain": [
       "'Good Morning   '"
      ]
     },
     "execution_count": 11,
     "metadata": {},
     "output_type": "execute_result"
    }
   ],
   "source": [
    "s3.lstrip()"
   ]
  },
  {
   "cell_type": "code",
   "execution_count": 12,
   "id": "562f2968",
   "metadata": {},
   "outputs": [
    {
     "data": {
      "text/plain": [
       "'   Good Morning'"
      ]
     },
     "execution_count": 12,
     "metadata": {},
     "output_type": "execute_result"
    }
   ],
   "source": [
    "s3.rstrip()"
   ]
  },
  {
   "cell_type": "code",
   "execution_count": 13,
   "id": "b9617ae5",
   "metadata": {},
   "outputs": [
    {
     "data": {
      "text/plain": [
       "'Watched BATWOMAN movie Yesterday'"
      ]
     },
     "execution_count": 13,
     "metadata": {},
     "output_type": "execute_result"
    }
   ],
   "source": [
    "'''Q9. Replace a string character by another character by taking your own example'''\n",
    "s4 = 'Watched BATMAN movie Yesterday'\n",
    "s4.replace('MAN','WOMAN')"
   ]
  },
  {
   "cell_type": "code",
   "execution_count": 14,
   "id": "a920930b",
   "metadata": {},
   "outputs": [
    {
     "data": {
      "text/plain": [
       "'  Girish  '"
      ]
     },
     "execution_count": 14,
     "metadata": {},
     "output_type": "execute_result"
    }
   ],
   "source": [
    "'''Q10. Try to give a difintion of string center function with an example\n",
    "\n",
    "Answer:\n",
    "    \n",
    "center is a string function that places string object in center position. This function uses two arguments \n",
    "center(Arg1, Arg2) where Arg1 is called width and is mandatory. Whereas, second argument 'Arg2' is a delimter which is\n",
    "not mandatory. By default second argument uses space as default delimiter. Let's explain with the below example\n",
    "\n",
    "s4 = 'Girish' -> Here, s4 variable contains string 'Girish' which has length of 6\n",
    "\n",
    "s4.center(10,) -> This function uses width 10, meaning the entire string object length will be fixed to 10.\n",
    "Executing this function will place Girish in the center position (6 position), Remaining gap (10-6=4) will be occupied \n",
    "by space on either sides of string (2 left and 2 right) combining total width of 10 (2+6+2)'''\n",
    "\n",
    "s4 = 'Girish'\n",
    "s4.center(10)"
   ]
  },
  {
   "cell_type": "markdown",
   "id": "c04bf590",
   "metadata": {},
   "source": [
    "Q11. Write your own defintion of compiler and interpretor without copy paste from internet in your language\n",
    "\n",
    "Compiler is a Software which is Machine Readable code that takes input from an interpretor, processes into assembly level code,  which will further work with processor and gives the result back to the interpretor. \n",
    "\n",
    "Intepretor is a translator that reads the entire Input, processes to Machine Code and hands off to the compiler to perform rest of the Operation. Once the result is obtained from the compiler, it will be translated back to the editior in a Human readable format.\n"
   ]
  },
  {
   "cell_type": "raw",
   "id": "7583a344",
   "metadata": {},
   "source": [
    "Q12. Python is a interpreted of compiled language givena clear answer with your understanding\n",
    "\n",
    "In Higher languages like C, C++ machine won't be able to understand this language directly, \n",
    "hence it needs to be executed by a compiler which converts the source code to Machine Language. \n",
    "Whereas interpreter executes instructions (source code) line by line without compiling a program into machine language. \n",
    "\n",
    "In case of Python, the source code (.py) is first compiled to \"Byte Code\" which is interpreted/runs by \n",
    "\"Python Virtual Machine\" into \"Machine Language\". Hence, Python is compiled as well as interpreted language.\n",
    "\n"
   ]
  },
  {
   "cell_type": "raw",
   "id": "0272959a",
   "metadata": {},
   "source": [
    "13. Try to write a usecase of python with your understanding\n",
    "\n",
    "Python is used in various fields. Some of the noted ones are like Youtube, Dropbox, Internet Scripting, AI, Weather Forecasting. \n",
    "It offers vast Libraries, and Python can be run in various platforms also called Portable meaning if you write the code in Windows OS \n",
    "the same can be used in other OS like Linux, MacOS."
   ]
  }
 ],
 "metadata": {
  "kernelspec": {
   "display_name": "Python 3 (ipykernel)",
   "language": "python",
   "name": "python3"
  },
  "language_info": {
   "codemirror_mode": {
    "name": "ipython",
    "version": 3
   },
   "file_extension": ".py",
   "mimetype": "text/x-python",
   "name": "python",
   "nbconvert_exporter": "python",
   "pygments_lexer": "ipython3",
   "version": "3.9.12"
  }
 },
 "nbformat": 4,
 "nbformat_minor": 5
}
